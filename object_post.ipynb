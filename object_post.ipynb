{
 "cells": [
  {
   "cell_type": "code",
   "execution_count": 1,
   "id": "76d71e96",
   "metadata": {},
   "outputs": [],
   "source": [
    "import os\n",
    "# required to resolve conflict between jupyther and blender\n",
    "os.environ['MPLBACKEND'] = 'agg'\n",
    "# so we can overwrite files\n",
    "os.environ['HDF5_USE_FILE_LOCKING'] = 'FALSE'"
   ]
  },
  {
   "cell_type": "code",
   "execution_count": 2,
   "id": "148b2460",
   "metadata": {},
   "outputs": [],
   "source": [
    "%matplotlib inline\n",
    "import h5py\n",
    "import numpy as np\n",
    "import matplotlib.pyplot as plt\n"
   ]
  },
  {
   "cell_type": "code",
   "execution_count": 3,
   "id": "428d1a73",
   "metadata": {},
   "outputs": [
    {
     "name": "stdout",
     "output_type": "stream",
     "text": [
      "Warning: Changed install path from /home_local\\LL... to C:\\Users\\LL..., there is no /home_local/ on this machine.\n",
      "Using blender in C:\\Users\\LL\\blender\\blender-4.2.1-windows-x64\\blender-4.2.1-windows-x64\n"
     ]
    },
    {
     "name": "stderr",
     "output_type": "stream",
     "text": [
      "Traceback (most recent call last):\n",
      "  File \"<frozen runpy>\", line 198, in _run_module_as_main\n",
      "  File \"<frozen runpy>\", line 88, in _run_code\n",
      "  File \"f:\\Working\\blenderproc\\.venv_311\\Scripts\\blenderproc.exe\\__main__.py\", line 7, in <module>\n",
      "  File \"F:\\Working\\blenderproc\\.venv_311\\Lib\\site-packages\\blenderproc\\command_line.py\", line 147, in cli\n",
      "    SetupUtility.check_if_setup_utilities_are_at_the_top(path_src_run)\n",
      "  File \"F:\\Working\\blenderproc\\.venv_311\\Lib\\site-packages\\blenderproc\\python\\utility\\SetupUtility.py\", line 405, in check_if_setup_utilities_are_at_the_top\n",
      "    raise RuntimeError(f'The given script \"{path_to_run_file}\" does not have a blenderproc '\n",
      "RuntimeError: The given script \"download_ikea.py\" does not have a blenderproc import at the top! Make sure that is the first thing you import, as otherwise the import of third-party packages installed in the blender environment will fail.\n",
      "Your code:\n",
      "#####################\n",
      "\"\"\" Downloads the ikea dataset \"\"\"\n",
      "import blenderproc as bproc\n",
      "\"\"####################\n",
      "Replaces this with:\n",
      "\"\"import blenderproc as bproc\"\n"
     ]
    }
   ],
   "source": [
    "!blenderproc run download_ikea.py"
   ]
  },
  {
   "cell_type": "code",
   "execution_count": 15,
   "id": "b0e84a99",
   "metadata": {},
   "outputs": [
    {
     "name": "stdout",
     "output_type": "stream",
     "text": [
      "Warning: Changed install path from /home_local\\LL... to C:\\Users\\LL..., there is no /home_local/ on this machine.\n",
      "Using blender in C:\\Users\\LL\\blender\\blender-4.2.1-windows-x64\\blender-4.2.1-windows-x64\n",
      "Using temporary directory: C:\\Users\\LL\\AppData\\Local\\Temp\\blender_proc_f47472def31c402ab13df97d24b27bab\n",
      "Blender 4.2.1 LTS (hash 396f546c9d82 built 2024-08-19 11:29:52)\n",
      "Cleaning temporary directory\n"
     ]
    },
    {
     "name": "stderr",
     "output_type": "stream",
     "text": [
      "usage: ikea.py [-h] ikea_path [output_dir]\n",
      "ikea.py: error: the following arguments are required: ikea_path\n"
     ]
    }
   ],
   "source": [
    "!blenderproc run ikea.py"
   ]
  },
  {
   "cell_type": "code",
   "execution_count": null,
   "id": "d3cdce11",
   "metadata": {},
   "outputs": [],
   "source": []
  }
 ],
 "metadata": {
  "kernelspec": {
   "display_name": ".venv_311",
   "language": "python",
   "name": "python3"
  },
  "language_info": {
   "codemirror_mode": {
    "name": "ipython",
    "version": 3
   },
   "file_extension": ".py",
   "mimetype": "text/x-python",
   "name": "python",
   "nbconvert_exporter": "python",
   "pygments_lexer": "ipython3",
   "version": "3.11.0"
  }
 },
 "nbformat": 4,
 "nbformat_minor": 5
}
