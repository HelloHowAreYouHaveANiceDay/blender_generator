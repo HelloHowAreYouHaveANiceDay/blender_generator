{
 "cells": [
  {
   "cell_type": "code",
   "execution_count": 40,
   "id": "f87a9ed4",
   "metadata": {},
   "outputs": [],
   "source": [
    "import os\n",
    "# required to resolve conflict between jupyther and blender\n",
    "os.environ['MPLBACKEND'] = 'agg'\n",
    "# so we can overwrite files\n",
    "os.environ['HDF5_USE_FILE_LOCKING'] = 'FALSE'"
   ]
  },
  {
   "cell_type": "code",
   "execution_count": 41,
   "id": "d9813a73",
   "metadata": {},
   "outputs": [],
   "source": [
    "%matplotlib inline\n",
    "import h5py\n",
    "import numpy as np\n",
    "import matplotlib.pyplot as plt\n"
   ]
  },
  {
   "cell_type": "code",
   "execution_count": 42,
   "id": "3285b21f",
   "metadata": {},
   "outputs": [
    {
     "name": "stdout",
     "output_type": "stream",
     "text": [
      "usage: blenderproc [-h] [-v]\n",
      "                   {run,quickstart,debug,vis,download,extract,pip} ...\n",
      "\n",
      "BlenderProc: A procedural Blender pipeline for photorealistic image generation.\n",
      "\n",
      "positional arguments:\n",
      "  {run,quickstart,debug,vis,download,extract,pip}\n",
      "                        Select a BlenderProc command to run:\n",
      "    run                 Runs the BlenderProc pipeline in normal mode.\n",
      "    quickstart          Runs a quickstart script blenderproc/scripts/quickstart.py\n",
      "    debug               Runs the BlenderProc pipeline in debug mode. This will open the Blender UI, so the 3D scene created by the pipeline can be visually inspected.\n",
      "    vis                 Visualize the content of BlenderProc output files. \n",
      "                        Options: hdf5, coco\n",
      "    download            Download datasets, materials or 3D models to run examples or your own pipeline. \n",
      "                        Options: blenderkit, cc_textures, haven, ikea, pix3d, scenenet, matterport3d\n",
      "    extract             Extract the raw images from generated containers such as hdf5. \n",
      "                        Options: hdf5\n",
      "    pip                 Can be used to install/uninstall pip packages in the Blender python environment. \n",
      "                        Options: install, uninstall\n",
      "\n",
      "options:\n",
      "  -h, --help            show this help message and exit\n",
      "  -v, --version         Version of BlenderProc\n"
     ]
    }
   ],
   "source": [
    "!blenderproc --help"
   ]
  },
  {
   "cell_type": "code",
   "execution_count": 44,
   "id": "f552d7f5",
   "metadata": {},
   "outputs": [
    {
     "name": "stdout",
     "output_type": "stream",
     "text": [
      "Warning: Changed install path from /home_local\\LL... to C:\\Users\\LL..., there is no /home_local/ on this machine.\n",
      "Using blender in C:\\Users\\LL\\blender\\blender-4.2.1-windows-x64\\blender-4.2.1-windows-x64\n",
      "Using temporary directory: C:\\Users\\LL\\AppData\\Local\\Temp\\blender_proc_dc050775708c4f93b97d2e7030da1080\n",
      "Blender 4.2.1 LTS (hash 396f546c9d82 built 2024-08-19 11:29:52)\n",
      "Selecting render devices...\n",
      "Device NVIDIA GeForce GTX 1070 Ti of type OPTIX found and used.\n",
      "Device Intel Core i9-14900KF of type CPU found and used.\n",
      "OBJ import of 'cube.obj' took 0.32 ms\n",
      "Rendering 5 frames of colors, depth, normals...\n",
      "\u001b[?25l\n",
      "\u001b[2K\u001b[32mTotal\u001b[0m \u001b[30m----------------------------------------\u001b[0m \u001b[36m-:--:--\u001b[0m  \n",
      "\u001b[2K\u001b[32mTotal\u001b[0m         \u001b[30m----------------------------------------\u001b[0m \u001b[36m-:--:--\u001b[0m  \n",
      "\u001b[33mCurrent frame\u001b[0m \u001b[30m----------------------------------------\u001b[0m \u001b[36m-:--:--\u001b[0m  \n",
      "\u001b[2K\u001b[1A\u001b[2K\u001b[32mTotal\u001b[0m         \u001b[30m----------------------------------------\u001b[0m \u001b[36m-:--:--\u001b[0m  \n",
      "\u001b[33mCurrent frame\u001b[0m \u001b[30m----------------------------------------\u001b[0m \u001b[36m-:--:--\u001b[0m  \n",
      "\u001b[2K\u001b[1A\u001b[2K\u001b[32mTotal\u001b[0m         \u001b[30m----------------------------------\u001b[0m \u001b[36m-:--:--\u001b[0m Rendering frame 1 of 5\n",
      "\u001b[33mCurrent frame\u001b[0m \u001b[30m----------------------------------\u001b[0m \u001b[36m-:--:--\u001b[0m Updating Shaders      \n",
      "\u001b[2K\u001b[1A\u001b[2K\u001b[32mTotal\u001b[0m         \u001b[30m----------------------------------\u001b[0m \u001b[36m-:--:--\u001b[0m Rendering frame 1 of 5\n",
      "\u001b[33mCurrent frame\u001b[0m \u001b[91m \u001b[0m\u001b[30m---------------------------------\u001b[0m \u001b[36m0:00:05\u001b[0m Sample 17/1024        \n",
      "\u001b[2K\u001b[1A\u001b[2K\u001b[32mTotal\u001b[0m         \u001b[30m----------------------------------\u001b[0m \u001b[36m-:--:--\u001b[0m Rendering frame 1 of 5\n",
      "\u001b[33mCurrent frame\u001b[0m \u001b[91m \u001b[0m\u001b[30m---------------------------------\u001b[0m \u001b[36m0:00:05\u001b[0m Sample 17/1024        \n",
      "\u001b[2K\u001b[1A\u001b[2K\u001b[32mTotal\u001b[0m         \u001b[30m----------------------------------\u001b[0m \u001b[36m-:--:--\u001b[0m Rendering frame 1 of 5\n",
      "\u001b[33mCurrent frame\u001b[0m \u001b[91m----------\u001b[0m\u001b[91m \u001b[0m\u001b[30m-----------------------\u001b[0m \u001b[36m0:00:01\u001b[0m Sample 320/1024       \n",
      "\u001b[2K\u001b[1A\u001b[2K\u001b[32mTotal\u001b[0m         \u001b[30m----------------------------\u001b[0m \u001b[36m-:--:--\u001b[0m Rendering frame 1 of 5      \n",
      "\u001b[33mCurrent frame\u001b[0m \u001b[33m----------------------------\u001b[0m \u001b[36m0:00:00\u001b[0m Compositing | Operation 4-80\n",
      "\u001b[2K\u001b[1A\u001b[2K\u001b[32mTotal\u001b[0m         \u001b[30m----------------------------\u001b[0m \u001b[36m-:--:--\u001b[0m Rendering frame 1 of 5      \n",
      "\u001b[33mCurrent frame\u001b[0m \u001b[33m----------------------------\u001b[0m \u001b[36m0:00:00\u001b[0m Compositing | Operation 5-80\n",
      "\u001b[2K\u001b[1A\u001b[2K\u001b[32mTotal\u001b[0m         \u001b[30m----------------------------\u001b[0m \u001b[36m-:--:--\u001b[0m Rendering frame 1 of 5      \n",
      "\u001b[33mCurrent frame\u001b[0m \u001b[33m----------------------------\u001b[0m \u001b[36m0:00:00\u001b[0m Compositing | Operation 8-80\n",
      "\u001b[2K\u001b[1A\u001b[2K\u001b[32mTotal\u001b[0m         \u001b[91m------\u001b[0m\u001b[91m \u001b[0m\u001b[30m---------------------------\u001b[0m \u001b[36m-:--:--\u001b[0m Rendering frame 2 of 5\n",
      "\u001b[33mCurrent frame\u001b[0m \u001b[30m----------------------------------\u001b[0m \u001b[36m0:00:00\u001b[0m Sample 1/1024         \n",
      "\u001b[2K\u001b[1A\u001b[2K\u001b[32mTotal\u001b[0m         \u001b[91m------\u001b[0m\u001b[91m \u001b[0m\u001b[30m---------------------------\u001b[0m \u001b[36m-:--:--\u001b[0m Rendering frame 2 of 5\n",
      "\u001b[33mCurrent frame\u001b[0m \u001b[91m \u001b[0m\u001b[30m---------------------------------\u001b[0m \u001b[36m0:00:00\u001b[0m Sample 17/1024        \n",
      "\u001b[2K\u001b[1A\u001b[2K\u001b[32mTotal\u001b[0m         \u001b[91m------\u001b[0m\u001b[91m \u001b[0m\u001b[30m---------------------------\u001b[0m \u001b[36m-:--:--\u001b[0m Rendering frame 2 of 5\n",
      "\u001b[33mCurrent frame\u001b[0m \u001b[91m-\u001b[0m\u001b[91m \u001b[0m\u001b[30m--------------------------------\u001b[0m \u001b[36m0:00:00\u001b[0m Sample 49/1024        \n",
      "\u001b[2K\u001b[1A\u001b[2K\u001b[32mTotal\u001b[0m         \u001b[91m------\u001b[0m\u001b[91m \u001b[0m\u001b[30m---------------------------\u001b[0m \u001b[36m-:--:--\u001b[0m Rendering frame 2 of 5\n",
      "\u001b[33mCurrent frame\u001b[0m \u001b[91m----------------\u001b[0m\u001b[30m \u001b[0m\u001b[30m-----------------\u001b[0m \u001b[36m0:00:00\u001b[0m Sample 496/1024       \n",
      "\u001b[2K\u001b[1A\u001b[2K\u001b[32mTotal\u001b[0m         \u001b[91m-----\u001b[0m\u001b[91m \u001b[0m\u001b[30m----------------------\u001b[0m \u001b[36m-:--:--\u001b[0m Rendering frame 2 of 5      \n",
      "\u001b[33mCurrent frame\u001b[0m \u001b[33m----------------------------\u001b[0m \u001b[36m0:00:00\u001b[0m Compositing | Operation 4-80\n",
      "\u001b[2K\u001b[1A\u001b[2K\u001b[32mTotal\u001b[0m         \u001b[91m-----\u001b[0m\u001b[91m \u001b[0m\u001b[30m----------------------\u001b[0m \u001b[36m-:--:--\u001b[0m Rendering frame 2 of 5      \n",
      "\u001b[33mCurrent frame\u001b[0m \u001b[33m----------------------------\u001b[0m \u001b[36m0:00:00\u001b[0m Compositing | Operation 5-80\n",
      "\u001b[2K\u001b[1A\u001b[2K\u001b[32mTotal\u001b[0m         \u001b[91m-----\u001b[0m\u001b[91m \u001b[0m\u001b[30m----------------------\u001b[0m \u001b[36m-:--:--\u001b[0m Rendering frame 2 of 5      \n",
      "\u001b[33mCurrent frame\u001b[0m \u001b[33m----------------------------\u001b[0m \u001b[36m0:00:00\u001b[0m Compositing | Operation 8-80\n",
      "\u001b[2K\u001b[1A\u001b[2K\u001b[32mTotal\u001b[0m         \u001b[91m-------------\u001b[0m\u001b[91m \u001b[0m\u001b[30m--------------------\u001b[0m \u001b[36m0:00:03\u001b[0m Rendering frame 3 of 5\n",
      "\u001b[33mCurrent frame\u001b[0m \u001b[30m----------------------------------\u001b[0m \u001b[36m0:00:00\u001b[0m Sample 1/1024         \n",
      "\u001b[2K\u001b[1A\u001b[2K\u001b[32mTotal\u001b[0m         \u001b[91m-------------\u001b[0m\u001b[91m \u001b[0m\u001b[30m--------------------\u001b[0m \u001b[36m0:00:03\u001b[0m Rendering frame 3 of 5\n",
      "\u001b[33mCurrent frame\u001b[0m \u001b[91m-\u001b[0m\u001b[30m \u001b[0m\u001b[30m--------------------------------\u001b[0m \u001b[36m0:00:00\u001b[0m Sample 33/1024        \n",
      "\u001b[2K\u001b[1A\u001b[2K\u001b[32mTotal\u001b[0m         \u001b[91m-------------\u001b[0m\u001b[91m \u001b[0m\u001b[30m--------------------\u001b[0m \u001b[36m0:00:03\u001b[0m Rendering frame 3 of 5\n",
      "\u001b[33mCurrent frame\u001b[0m \u001b[91m-----------\u001b[0m\u001b[91m \u001b[0m\u001b[30m----------------------\u001b[0m \u001b[36m0:00:00\u001b[0m Sample 352/1024       \n",
      "\u001b[2K\u001b[1A\u001b[2K\u001b[32mTotal\u001b[0m         \u001b[91m-----------\u001b[0m\u001b[30m \u001b[0m\u001b[30m----------------\u001b[0m \u001b[36m0:00:03\u001b[0m Rendering frame 3 of 5      \n",
      "\u001b[33mCurrent frame\u001b[0m \u001b[33m----------------------------\u001b[0m \u001b[36m0:00:00\u001b[0m Compositing | Operation 4-80\n",
      "\u001b[2K\u001b[1A\u001b[2K\u001b[32mTotal\u001b[0m         \u001b[91m-----------\u001b[0m\u001b[30m \u001b[0m\u001b[30m----------------\u001b[0m \u001b[36m0:00:03\u001b[0m Rendering frame 3 of 5      \n",
      "\u001b[33mCurrent frame\u001b[0m \u001b[33m----------------------------\u001b[0m \u001b[36m0:00:00\u001b[0m Compositing | Operation 5-80\n",
      "\u001b[2K\u001b[1A\u001b[2K\u001b[32mTotal\u001b[0m         \u001b[91m-----------\u001b[0m\u001b[30m \u001b[0m\u001b[30m----------------\u001b[0m \u001b[36m0:00:03\u001b[0m Rendering frame 3 of 5      \n",
      "\u001b[33mCurrent frame\u001b[0m \u001b[33m----------------------------\u001b[0m \u001b[36m0:00:00\u001b[0m Compositing | Operation 8-80\n",
      "\u001b[2K\u001b[1A\u001b[2K\u001b[32mTotal\u001b[0m         \u001b[91m--------------------\u001b[0m\u001b[30m \u001b[0m\u001b[30m-------------\u001b[0m \u001b[36m0:00:02\u001b[0m Rendering frame 4 of 5\n",
      "\u001b[33mCurrent frame\u001b[0m \u001b[30m----------------------------------\u001b[0m \u001b[36m0:00:00\u001b[0m Sample 1/1024         \n",
      "\u001b[2K\u001b[1A\u001b[2K\u001b[32mTotal\u001b[0m         \u001b[91m--------------------\u001b[0m\u001b[30m \u001b[0m\u001b[30m-------------\u001b[0m \u001b[36m0:00:02\u001b[0m Rendering frame 4 of 5\n",
      "\u001b[33mCurrent frame\u001b[0m \u001b[91m \u001b[0m\u001b[30m---------------------------------\u001b[0m \u001b[36m0:00:00\u001b[0m Sample 17/1024        \n",
      "\u001b[2K\u001b[1A\u001b[2K\u001b[32mTotal\u001b[0m         \u001b[91m--------------------\u001b[0m\u001b[30m \u001b[0m\u001b[30m-------------\u001b[0m \u001b[36m0:00:02\u001b[0m Rendering frame 4 of 5\n",
      "\u001b[33mCurrent frame\u001b[0m \u001b[91m---\u001b[0m\u001b[91m \u001b[0m\u001b[30m------------------------------\u001b[0m \u001b[36m0:00:00\u001b[0m Sample 112/1024       \n",
      "\u001b[2K\u001b[1A\u001b[2K\u001b[32mTotal\u001b[0m         \u001b[91m----------------\u001b[0m\u001b[91m \u001b[0m\u001b[30m-----------\u001b[0m \u001b[36m0:00:02\u001b[0m Rendering frame 4 of 5      \n",
      "\u001b[33mCurrent frame\u001b[0m \u001b[33m----------------------------\u001b[0m \u001b[36m0:00:00\u001b[0m Compositing | Operation 4-80\n",
      "\u001b[2K\u001b[1A\u001b[2K\u001b[32mTotal\u001b[0m         \u001b[91m----------------\u001b[0m\u001b[91m \u001b[0m\u001b[30m-----------\u001b[0m \u001b[36m0:00:02\u001b[0m Rendering frame 4 of 5      \n",
      "\u001b[33mCurrent frame\u001b[0m \u001b[33m----------------------------\u001b[0m \u001b[36m0:00:00\u001b[0m Compositing | Operation 5-80\n",
      "\u001b[2K\u001b[1A\u001b[2K\u001b[32mTotal\u001b[0m         \u001b[91m----------------\u001b[0m\u001b[91m \u001b[0m\u001b[30m-----------\u001b[0m \u001b[36m0:00:02\u001b[0m Rendering frame 4 of 5      \n",
      "\u001b[33mCurrent frame\u001b[0m \u001b[33m----------------------------\u001b[0m \u001b[36m0:00:00\u001b[0m Compositing | Operation 8-80\n",
      "\u001b[2K\u001b[1A\u001b[2K\u001b[32mTotal\u001b[0m         \u001b[91m---------------------------\u001b[0m\u001b[30m \u001b[0m\u001b[30m------\u001b[0m \u001b[36m0:00:01\u001b[0m Rendering frame 5 of 5\n",
      "\u001b[33mCurrent frame\u001b[0m \u001b[30m----------------------------------\u001b[0m \u001b[36m0:00:00\u001b[0m Sample 0/1024         \n",
      "\u001b[2K\u001b[1A\u001b[2K\u001b[32mTotal\u001b[0m         \u001b[91m---------------------------\u001b[0m\u001b[30m \u001b[0m\u001b[30m------\u001b[0m \u001b[36m0:00:01\u001b[0m Rendering frame 5 of 5\n",
      "\u001b[33mCurrent frame\u001b[0m \u001b[91m \u001b[0m\u001b[30m---------------------------------\u001b[0m \u001b[36m0:00:00\u001b[0m Sample 17/1024        \n",
      "\u001b[2K\u001b[1A\u001b[2K\u001b[32mTotal\u001b[0m         \u001b[91m---------------------------\u001b[0m\u001b[30m \u001b[0m\u001b[30m------\u001b[0m \u001b[36m0:00:01\u001b[0m Rendering frame 5 of 5\n",
      "\u001b[33mCurrent frame\u001b[0m \u001b[91m \u001b[0m\u001b[30m---------------------------------\u001b[0m \u001b[36m0:00:00\u001b[0m Sample 17/1024        \n",
      "\u001b[2K\u001b[1A\u001b[2K\u001b[32mTotal\u001b[0m         \u001b[91m---------------------------\u001b[0m\u001b[30m \u001b[0m\u001b[30m------\u001b[0m \u001b[36m0:00:01\u001b[0m Rendering frame 5 of 5\n",
      "\u001b[33mCurrent frame\u001b[0m \u001b[91m \u001b[0m\u001b[30m---------------------------------\u001b[0m \u001b[36m0:00:00\u001b[0m Sample 17/1024        \n",
      "\u001b[2K\u001b[1A\u001b[2K\u001b[32mTotal\u001b[0m         \u001b[91m---------------------------\u001b[0m\u001b[30m \u001b[0m\u001b[30m------\u001b[0m \u001b[36m0:00:01\u001b[0m Rendering frame 5 of 5\n",
      "\u001b[33mCurrent frame\u001b[0m \u001b[91m \u001b[0m\u001b[30m---------------------------------\u001b[0m \u001b[36m0:00:00\u001b[0m Sample 17/1024        \n",
      "\u001b[2K\u001b[1A\u001b[2K\u001b[32mTotal\u001b[0m         \u001b[91m----------------\u001b[0m\u001b[30m \u001b[0m\u001b[30m---\u001b[0m \u001b[36m0:00:01\u001b[0m Rendering frame 5 of 5              \n",
      "\u001b[33mCurrent frame\u001b[0m \u001b[33m--------------------\u001b[0m \u001b[36m0:00:00\u001b[0m Compositing | Initializing execution\n",
      "\u001b[2K\u001b[1A\u001b[2K\u001b[32mTotal\u001b[0m         \u001b[91m----------------------\u001b[0m\u001b[30m \u001b[0m\u001b[30m-----\u001b[0m \u001b[36m0:00:01\u001b[0m Rendering frame 5 of 5      \n",
      "\u001b[33mCurrent frame\u001b[0m \u001b[33m----------------------------\u001b[0m \u001b[36m0:00:00\u001b[0m Compositing | Operation 4-80\n",
      "\u001b[2K\u001b[1A\u001b[2K\u001b[32mTotal\u001b[0m         \u001b[91m----------------------\u001b[0m\u001b[30m \u001b[0m\u001b[30m-----\u001b[0m \u001b[36m0:00:01\u001b[0m Rendering frame 5 of 5      \n",
      "\u001b[33mCurrent frame\u001b[0m \u001b[33m----------------------------\u001b[0m \u001b[36m0:00:00\u001b[0m Compositing | Operation 5-80\n",
      "\u001b[2K\u001b[1A\u001b[2K\u001b[32mTotal\u001b[0m         \u001b[91m----------------------\u001b[0m\u001b[30m \u001b[0m\u001b[30m-----\u001b[0m \u001b[36m0:00:01\u001b[0m Rendering frame 5 of 5      \n",
      "\u001b[33mCurrent frame\u001b[0m \u001b[33m----------------------------\u001b[0m \u001b[36m0:00:00\u001b[0m Compositing | Operation 8-80\n",
      "\u001b[2K\u001b[1A\u001b[2K\u001b[32mTotal\u001b[0m         \u001b[91m---------------------\u001b[0m\u001b[91m \u001b[0m\u001b[30m-----\u001b[0m \u001b[36m0:00:01\u001b[0m Rendering frame 5 of 5       \n",
      "\u001b[33mCurrent frame\u001b[0m \u001b[33m---------------------------\u001b[0m \u001b[36m0:00:00\u001b[0m Compositing | Operation 81-80\n",
      "\u001b[?25h\n",
      "\u001b[1A\u001b[2K\u001b[1A\u001b[2KFinished rendering after 4.045 seconds\n",
      "Merging data for frame 0 into ./output\\0.hdf5\n",
      "Merging data for frame 1 into ./output\\1.hdf5\n",
      "Merging data for frame 2 into ./output\\2.hdf5\n",
      "Merging data for frame 3 into ./output\\3.hdf5\n",
      "Merging data for frame 4 into ./output\\4.hdf5\n",
      "\n",
      "Blender quit\n",
      "Cleaning temporary directory\n"
     ]
    }
   ],
   "source": [
    "!blenderproc run basic.py"
   ]
  },
  {
   "cell_type": "code",
   "execution_count": null,
   "id": "ab38c927",
   "metadata": {},
   "outputs": [],
   "source": []
  }
 ],
 "metadata": {
  "kernelspec": {
   "display_name": ".venv_311",
   "language": "python",
   "name": "python3"
  },
  "language_info": {
   "codemirror_mode": {
    "name": "ipython",
    "version": 3
   },
   "file_extension": ".py",
   "mimetype": "text/x-python",
   "name": "python",
   "nbconvert_exporter": "python",
   "pygments_lexer": "ipython3",
   "version": "3.11.0"
  }
 },
 "nbformat": 4,
 "nbformat_minor": 5
}
